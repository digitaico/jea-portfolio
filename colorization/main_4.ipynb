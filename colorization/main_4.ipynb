{
 "cells": [
  {
   "cell_type": "markdown",
   "id": "b3f25a50-2b04-448f-88de-6cf23f635b27",
   "metadata": {},
   "source": [
    "# Apparel Colorization\n",
    "\n",
    "Copy an image with color variations"
   ]
  },
  {
   "cell_type": "code",
   "execution_count": 1,
   "id": "29e001e4-9f5c-4396-bef0-30648da4bfb5",
   "metadata": {},
   "outputs": [],
   "source": [
    "import os\n",
    "import cv2\n",
    "import csv\n",
    "import matplotlib.pyplot as plt\n",
    "import numpy as np"
   ]
  },
  {
   "cell_type": "code",
   "execution_count": 2,
   "id": "53c9e7d7-ec82-4e23-a003-f0101228de47",
   "metadata": {},
   "outputs": [
    {
     "name": "stdout",
     "output_type": "stream",
     "text": [
      "0\n"
     ]
    }
   ],
   "source": [
    "# check cuda gpu\n",
    "print(cv2.cuda.getCudaEnabledDeviceCount())"
   ]
  },
  {
   "cell_type": "code",
   "execution_count": 3,
   "id": "9eb51353-e376-4ca4-ac8f-3383eec31581",
   "metadata": {},
   "outputs": [],
   "source": [
    "# -- RESOURCES\n",
    "#BASE_DIR = os.path.dirname(__file__)\n",
    "BASE_DIR = os.getcwd()\n",
    "TEMPLATE_IMG = os.path.join(BASE_DIR, 'assets', 'template.jpg')\n",
    "OUTPUT_DIR = os.path.join(BASE_DIR, 'outpu')\n",
    "COLORS = os.path.join(BASE_DIR, 'data', 'color_combinations.csv')\n",
    "BODY_MASK = os.path.join(BASE_DIR, 'assets', 'body_mask.png')\n",
    "POCKETS_MASK = os.path.join(BASE_DIR, 'assets', 'pockets_mask.png')\n",
    "WEBBINGS_MASK = os.path.join(BASE_DIR, 'assets', 'webbings_mask.png')\n",
    "os.makedirs(OUTPUT_DIR, exist_ok=True)"
   ]
  },
  {
   "cell_type": "markdown",
   "id": "0b08d5cb-0d56-41d5-bd75-c0ee7949df7e",
   "metadata": {},
   "source": [
    "### Pseudocode / Workflow\n",
    "- [x] Define global variables\n",
    "- [x] Helper functions\n",
    "- [x] Load assets\n",
    "- [x] Binarize masks\n",
    "- [x] Convert template to LAB\n",
    "- [x] Display images to validation\n",
    "- [ ] Loop through color combinations\n",
    "- [ ] Show color to apply\n",
    "- [ ] Apply masks\n",
    "- [ ] Show each colorized image as RGB\n",
    "- [ ] Save images"
   ]
  },
  {
   "cell_type": "markdown",
   "id": "2efee12d-6292-4c98-97c8-44073340173e",
   "metadata": {},
   "source": [
    "## HELPER FUNCTIONS"
   ]
  },
  {
   "cell_type": "code",
   "execution_count": 4,
   "id": "0e3b2252-056a-4a64-97b6-c19d4fb7e86e",
   "metadata": {},
   "outputs": [],
   "source": [
    "# --- hex color to RGB\n",
    "def hex_to_bgr(hex_color:str) -> tuple[int, int, int]:\n",
    "    \"\"\"Converts a #RRGGBB string to RGB tuple.\"\"\"\n",
    "    hex_color = hex_color.strip().lstrip('#')\n",
    "    if len(hex_color) != 6:\n",
    "        raise ValueError(f\"Invalid hex colour: {hex_color}\")\n",
    "    r:int = int(hex_color[0:2], 16)\n",
    "    g:int = int(hex_color[2:4], 16) \n",
    "    b:int = int(hex_color[4:6], 16)\n",
    "    return (b,g,r)"
   ]
  },
  {
   "cell_type": "code",
   "execution_count": 5,
   "id": "e647d7a5-8777-4f5a-b373-e332e79dcfb7",
   "metadata": {},
   "outputs": [],
   "source": [
    "def load_mask(path: str, shape: tuple[int, int])-> np.ndarray:\n",
    "    \"\"\"Loads mask, binarize, resize if required, returns a uint8 binary array\"\"\"\n",
    "    mask = cv2.imread(path, cv2.IMREAD_GRAYSCALE)\n",
    "    if mask is None:\n",
    "        raise FileNotFoundError(path)\n",
    "    if mask.shape[:2] != shape:\n",
    "        mask = cv2.resize(mask, (shape[1], shape[2]), interpolation=cv2.INTER_NEAREST)\n",
    "    # binarize\n",
    "    _, mask = cv2.threshold(mask, 127, 1, cv2.THRESH_BINARY)\n",
    "    return mask.astype(np.uint8)"
   ]
  },
  {
   "cell_type": "markdown",
   "id": "0b964d4b-ad9c-4d2b-83e7-d5769018df4c",
   "metadata": {},
   "source": [
    "## IMAGE LOAD AND PREPROCESSING"
   ]
  },
  {
   "cell_type": "code",
   "execution_count": 6,
   "id": "c30ff704-770c-48eb-ab73-cfd8e4816b64",
   "metadata": {},
   "outputs": [],
   "source": [
    "# load assets: images are loaded as BGR by default on opencv *****\n",
    "template_raw = cv2.imread(TEMPLATE_IMG)\n",
    "if template_raw is None:\n",
    "    raise FileNotFoundError(TEMPLATE_IMG)\n",
    "H, W = template_raw.shape[:2]"
   ]
  },
  {
   "cell_type": "code",
   "execution_count": 7,
   "id": "7ee78242-f2c7-4d48-98d2-f9cb35705483",
   "metadata": {},
   "outputs": [],
   "source": [
    "# preprocess masks: resize and convert to binaries\n",
    "body_mask = load_mask(BODY_MASK, (H,W))\n",
    "pockets_mask = load_mask(POCKETS_MASK, (H,W))\n",
    "webbings_mask = load_mask(WEBBINGS_MASK, (H,W))"
   ]
  },
  {
   "cell_type": "code",
   "execution_count": 14,
   "id": "c9d29e60-9125-4743-8ecb-91bf34b95676",
   "metadata": {},
   "outputs": [],
   "source": [
    "# ///////////////// combinar masks\n",
    "body_mask_inds = body_mask.astype(bool)\n",
    "pockets_mask_inds = pockets_mask.astype(bool)"
   ]
  },
  {
   "cell_type": "code",
   "execution_count": 15,
   "id": "feca64ea-95b0-4154-9dfb-3c9ef31ac9f2",
   "metadata": {},
   "outputs": [],
   "source": [
    "# convert template to LAB to preserve luminosity, extract layers\n",
    "template_lab = cv2.cvtColor(template_raw, cv2.COLOR_BGR2LAB)\n",
    "L_template, A_template, B_template = cv2.split(template_lab)"
   ]
  },
  {
   "cell_type": "code",
   "execution_count": 26,
   "id": "b6678ac7-99c3-4aad-a6fc-19928a9c1b9b",
   "metadata": {},
   "outputs": [],
   "source": [
    "# convert template to HSV \n",
    "template_hsb = cv2.cvtColor(template_raw, cv2.COLOR_BGR2HSV)\n",
    "H_template, S_template, V_template = cv2.split(template_hsb)"
   ]
  },
  {
   "cell_type": "code",
   "execution_count": 16,
   "id": "7e465800-564a-453c-825d-3eb1dd5b6751",
   "metadata": {},
   "outputs": [],
   "source": [
    "# for visualization, transform loaded images to RGB, opencv transformed to BGR.\n",
    "template_raw_rgb = cv2.cvtColor(template_raw, cv2.COLOR_BGR2RGB)"
   ]
  },
  {
   "cell_type": "code",
   "execution_count": null,
   "id": "fe9872b1-4188-4280-91b8-89ba7a339ab3",
   "metadata": {},
   "outputs": [],
   "source": [
    "images = [template_raw_rgb, template_raw, template_lab, L_template, A_template, B_template, H_template, S_template, V_template, body_mask, pockets_mask, webbings_mask, body_mask_inds, pockets_mask_inds]\n",
    "titles = [\"Template\", \"Template BGR\", \"Template LAB\", \"Template L\", \"Template A\", \"Template B\", \"Template H\", \"Template S\", \"Template V\",\"Body Mask\", \"Pockets Mask\", \"Webbings Mask\", \"Body-Mask_INDS\", \"Pocket-Mask_INDS\"]\n",
    "cols=3\n",
    "rows=5\n",
    "fig, axes = plt.subplots(rows, cols, figsize=(10,8))\n",
    "\n",
    "for i, ax in enumerate(axes.flatten()):\n",
    "    if i < len(images):\n",
    "        ax.imshow(images[i])\n",
    "        ax.set_title(f\"{titles[i]}\")\n",
    "        ax.axis('off')\n",
    "\n",
    "plt.tight_layout\n",
    "plt.show()\n",
    "\n"
   ]
  },
  {
   "cell_type": "markdown",
   "id": "923f1aea-fef9-4f7e-946b-10424d89d72c",
   "metadata": {},
   "source": [
    "# COLOR PROCESSING"
   ]
  },
  {
   "cell_type": "code",
   "execution_count": 28,
   "id": "85c3165c-a3fd-4036-8e20-7ce513c155f1",
   "metadata": {},
   "outputs": [
    {
     "name": "stdout",
     "output_type": "stream",
     "text": [
      "Generating 16 colors ...\n"
     ]
    }
   ],
   "source": [
    "# load colorization list\n",
    "with open(COLORS, newline='') as colors:\n",
    "    reader = csv.DictReader(colors)\n",
    "    combos = list(reader)\n",
    "\n",
    "print(f\"Generating {len(combos)} colors ...\")"
   ]
  },
  {
   "cell_type": "code",
   "execution_count": 29,
   "id": "38fa9d8c-251c-4c2d-880f-e0bc8b50dfde",
   "metadata": {},
   "outputs": [
    {
     "name": "stdout",
     "output_type": "stream",
     "text": [
      "BGR\n",
      "file: delantal_gairaca | body_color: [[[0 0 0]]] | pockets: [[[ 33  25 179]]]\n",
      "LAB\n",
      "file: delantal_gairaca | body_color: [  0 128 128] | pockets: [ 98 187 166]\n",
      "BGR\n",
      "file: delantal_santa_marta | body_color: [[[64 45 38]]] | pockets: [[[ 38  96 252]]]\n",
      "LAB\n",
      "file: delantal_santa_marta | body_color: [ 48 131 115] | pockets: [156 185 189]\n",
      "BGR\n",
      "file: delantal_mendihuaca | body_color: [[[101 114 130]]] | pockets: [[[ 23   1 203]]]\n",
      "LAB\n",
      "file: delantal_mendihuaca | body_color: [125 132 137] | pockets: [108 195 176]\n",
      "BGR\n",
      "file: delantal_waikiki | body_color: [[[198 206 212]]] | pockets: [[[64 45 38]]]\n",
      "LAB\n",
      "file: delantal_waikiki | body_color: [212 129 133] | pockets: [ 48 131 115]\n",
      "BGR\n",
      "file: delantal_carey | body_color: [[[ 38  96 252]]] | pockets: [[[198 206 212]]]\n",
      "LAB\n",
      "file: delantal_carey | body_color: [156 185 189] | pockets: [212 129 133]\n",
      "BGR\n",
      "file: delantal_arrecife | body_color: [[[64 45 38]]] | pockets: [[[ 64 204 238]]]\n",
      "LAB\n",
      "file: delantal_arrecife | body_color: [ 48 131 115] | pockets: [211 126 198]\n",
      "BGR\n",
      "file: delantal_brisa_loca | body_color: [[[ 33  25 179]]] | pockets: [[[64 45 38]]]\n",
      "LAB\n",
      "file: delantal_brisa_loca | body_color: [ 98 187 166] | pockets: [ 48 131 115]\n",
      "BGR\n",
      "file: delantal_cayeye | body_color: [[[198 206 212]]] | pockets: [[[ 38  96 252]]]\n",
      "LAB\n",
      "file: delantal_cayeye | body_color: [212 129 133] | pockets: [156 185 189]\n",
      "BGR\n",
      "file: delantal_puerto_gaira | body_color: [[[64 45 38]]] | pockets: [[[ 23   1 203]]]\n",
      "LAB\n",
      "file: delantal_puerto_gaira | body_color: [ 48 131 115] | pockets: [108 195 176]\n",
      "BGR\n",
      "file: delantal_cardumen_magico | body_color: [[[ 38  96 252]]] | pockets: [[[64 45 38]]]\n",
      "LAB\n",
      "file: delantal_cardumen_magico | body_color: [156 185 189] | pockets: [ 48 131 115]\n",
      "BGR\n",
      "file: delantal_buritaca | body_color: [[[ 64 204 238]]] | pockets: [[[64 45 38]]]\n",
      "LAB\n",
      "file: delantal_buritaca | body_color: [211 126 198] | pockets: [ 48 131 115]\n",
      "BGR\n",
      "file: delantal_macondo | body_color: [[[101 114 130]]] | pockets: [[[ 38  96 252]]]\n",
      "LAB\n",
      "file: delantal_macondo | body_color: [125 132 137] | pockets: [156 185 189]\n",
      "BGR\n",
      "file: delantal_taganga | body_color: [[[64 45 38]]] | pockets: [[[198 206 212]]]\n",
      "LAB\n",
      "file: delantal_taganga | body_color: [ 48 131 115] | pockets: [212 129 133]\n",
      "BGR\n",
      "file: delantal_piquirrojo | body_color: [[[198 206 212]]] | pockets: [[[ 23   1 203]]]\n",
      "LAB\n",
      "file: delantal_piquirrojo | body_color: [212 129 133] | pockets: [108 195 176]\n",
      "BGR\n",
      "file: delantal_atardecer_samario | body_color: [[[ 23   1 203]]] | pockets: [[[198 206 212]]]\n",
      "LAB\n",
      "file: delantal_atardecer_samario | body_color: [108 195 176] | pockets: [212 129 133]\n",
      "BGR\n",
      "file: delantal_minca | body_color: [[[159  72  38]]] | pockets: [[[ 64 204 238]]]\n",
      "LAB\n",
      "file: delantal_minca | body_color: [ 84 148  77] | pockets: [211 126 198]\n"
     ]
    }
   ],
   "source": [
    "# loop colors\n",
    "for row in combos:\n",
    "    file_base = os.path.splitext(row['filename'].strip())[0]\n",
    "    body_hex = row['body_color'].strip()\n",
    "    pockets_hex = row['pockets_color'].strip()\n",
    "\n",
    "    # convert to BGR \n",
    "    body_bgr = np.array([[hex_to_bgr(body_hex)]], dtype=np.uint8)\n",
    "    pockets_bgr = np.array([[hex_to_bgr(pockets_hex)]], dtype=np.uint8)\n",
    "    \n",
    "    print(f\"BGR\\nfile: {file_base} | body_color: {body_bgr} | pockets: {pockets_bgr}\")\n",
    "    \n",
    "    # convert to LAB\n",
    "    body_lab = cv2.cvtColor(body_bgr, cv2.COLOR_BGR2LAB)[0,0]\n",
    "    pockets_lab = cv2.cvtColor(pockets_bgr, cv2.COLOR_BGR2LAB)[0,0]\n",
    "\n",
    "    print(f\"LAB\\nfile: {file_base} | body_color: {body_lab} | pockets: {pockets_lab}\")\n",
    "\n",
    "    # Clone original LAB channels\n",
    "    L = L_template.copy()\n",
    "    A = A_template.copy()\n",
    "    B = B_template.copy()\n",
    "\n",
    "    # Change body region hue,sat\n",
    "    A[body_mask_inds] = body_lab[1]\n",
    "    B[body_mask_inds] = body_lab[2]\n",
    "    # Change pockets region hue,sat\n",
    "    A[pockets_mask_inds] = pockets_lab[1]\n",
    "    B[pockets_mask_inds] = pockets_lab[2]\n",
    "\n",
    "    # hard clamp ....\n",
    "\n",
    "    # merge and convert to BGR\n",
    "    lab_colored = cv2.merge([L, A, B])\n",
    "    out_bgr = cv2.cvtColor(lab_colored, cv2.COLOR_LAB2BGR)\n",
    "    out_bgr = cv2.cvtColor(out_bgr, cv2.COLOR_BGR2RGB)\n",
    "\n",
    "    # Save\n",
    "    out_jpg = os.path.join(OUTPUT_DIR, f\"{file_base}_v5.jpg\")\n",
    "    cv2.imwrite(out_jpg, out_bgr)\n",
    "    "
   ]
  },
  {
   "cell_type": "code",
   "execution_count": null,
   "id": "46fee9b9-432b-4b8c-8c9b-2fa865cab5fa",
   "metadata": {},
   "outputs": [],
   "source": []
  }
 ],
 "metadata": {
  "kernelspec": {
   "display_name": "Python 3 (ipykernel)",
   "language": "python",
   "name": "python3"
  },
  "language_info": {
   "codemirror_mode": {
    "name": "ipython",
    "version": 3
   },
   "file_extension": ".py",
   "mimetype": "text/x-python",
   "name": "python",
   "nbconvert_exporter": "python",
   "pygments_lexer": "ipython3",
   "version": "3.11.2"
  }
 },
 "nbformat": 4,
 "nbformat_minor": 5
}
